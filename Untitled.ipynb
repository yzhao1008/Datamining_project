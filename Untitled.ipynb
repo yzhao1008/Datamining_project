{
 "cells": [
  {
   "cell_type": "code",
   "execution_count": 1,
   "metadata": {},
   "outputs": [],
   "source": [
    "# imports\n",
    "import h2o \n",
    "import matplotlib.pyplot as plt\n",
    "import numpy as np\n",
    "import pandas as pd\n",
    "from h2o.estimators.deeplearning import H2ODeepLearningEstimator\n",
    "from h2o.estimators.kmeans import H2OKMeansEstimator\n",
    "from h2o.estimators.pca import H2OPrincipalComponentAnalysisEstimator"
   ]
  },
  {
   "cell_type": "code",
   "execution_count": 2,
   "metadata": {},
   "outputs": [],
   "source": [
    "# display matplotlib graphics in notebook\n",
    "%matplotlib inline"
   ]
  },
  {
   "cell_type": "code",
   "execution_count": 3,
   "metadata": {},
   "outputs": [
    {
     "name": "stdout",
     "output_type": "stream",
     "text": [
      "Checking whether there is an H2O instance running at http://localhost:54321..... not found.\n",
      "Attempting to start a local H2O server...\n",
      "  Java Version: java version \"11.0.1\" 2018-10-16 LTS; Java(TM) SE Runtime Environment 18.9 (build 11.0.1+13-LTS); Java HotSpot(TM) 64-Bit Server VM 18.9 (build 11.0.1+13-LTS, mixed mode)\n",
      "  Starting server from /anaconda3/lib/python3.6/site-packages/h2o/backend/bin/h2o.jar\n",
      "  Ice root: /var/folders/cm/sf_cdqdx6g5c4r7dxps_gfg00000gn/T/tmpqsha38wi\n",
      "  JVM stdout: /var/folders/cm/sf_cdqdx6g5c4r7dxps_gfg00000gn/T/tmpqsha38wi/h2o_suzy_started_from_python.out\n",
      "  JVM stderr: /var/folders/cm/sf_cdqdx6g5c4r7dxps_gfg00000gn/T/tmpqsha38wi/h2o_suzy_started_from_python.err\n",
      "  Server is running at http://127.0.0.1:54321\n",
      "Connecting to H2O server at http://127.0.0.1:54321... successful.\n"
     ]
    },
    {
     "data": {
      "text/html": [
       "<div style=\"overflow:auto\"><table style=\"width:50%\"><tr><td>H2O cluster uptime:</td>\n",
       "<td>02 secs</td></tr>\n",
       "<tr><td>H2O cluster timezone:</td>\n",
       "<td>America/New_York</td></tr>\n",
       "<tr><td>H2O data parsing timezone:</td>\n",
       "<td>UTC</td></tr>\n",
       "<tr><td>H2O cluster version:</td>\n",
       "<td>3.22.1.3</td></tr>\n",
       "<tr><td>H2O cluster version age:</td>\n",
       "<td>2 months and 23 days </td></tr>\n",
       "<tr><td>H2O cluster name:</td>\n",
       "<td>H2O_from_python_suzy_8cz2wx</td></tr>\n",
       "<tr><td>H2O cluster total nodes:</td>\n",
       "<td>1</td></tr>\n",
       "<tr><td>H2O cluster free memory:</td>\n",
       "<td>2 Gb</td></tr>\n",
       "<tr><td>H2O cluster total cores:</td>\n",
       "<td>8</td></tr>\n",
       "<tr><td>H2O cluster allowed cores:</td>\n",
       "<td>8</td></tr>\n",
       "<tr><td>H2O cluster status:</td>\n",
       "<td>accepting new members, healthy</td></tr>\n",
       "<tr><td>H2O connection url:</td>\n",
       "<td>http://127.0.0.1:54321</td></tr>\n",
       "<tr><td>H2O connection proxy:</td>\n",
       "<td>None</td></tr>\n",
       "<tr><td>H2O internal security:</td>\n",
       "<td>False</td></tr>\n",
       "<tr><td>H2O API Extensions:</td>\n",
       "<td>XGBoost, Algos, AutoML, Core V3, Core V4</td></tr>\n",
       "<tr><td>Python version:</td>\n",
       "<td>3.6.5 final</td></tr></table></div>"
      ],
      "text/plain": [
       "--------------------------  ----------------------------------------\n",
       "H2O cluster uptime:         02 secs\n",
       "H2O cluster timezone:       America/New_York\n",
       "H2O data parsing timezone:  UTC\n",
       "H2O cluster version:        3.22.1.3\n",
       "H2O cluster version age:    2 months and 23 days\n",
       "H2O cluster name:           H2O_from_python_suzy_8cz2wx\n",
       "H2O cluster total nodes:    1\n",
       "H2O cluster free memory:    2 Gb\n",
       "H2O cluster total cores:    8\n",
       "H2O cluster allowed cores:  8\n",
       "H2O cluster status:         accepting new members, healthy\n",
       "H2O connection url:         http://127.0.0.1:54321\n",
       "H2O connection proxy:\n",
       "H2O internal security:      False\n",
       "H2O API Extensions:         XGBoost, Algos, AutoML, Core V3, Core V4\n",
       "Python version:             3.6.5 final\n",
       "--------------------------  ----------------------------------------"
      ]
     },
     "metadata": {},
     "output_type": "display_data"
    }
   ],
   "source": [
    "# start and connect to h2o server\n",
    "h2o.init()"
   ]
  },
  {
   "cell_type": "code",
   "execution_count": 4,
   "metadata": {},
   "outputs": [],
   "source": [
    "# load clean data\n",
    "path = './train.csv'"
   ]
  },
  {
   "cell_type": "code",
   "execution_count": 5,
   "metadata": {},
   "outputs": [],
   "source": [
    "# define input variable measurement levels \n",
    "# strings automatically parsed as enums (nominal)\n",
    "# numbers automatically parsed as numeric\n",
    "col_types = {'repeater': 'enum'}"
   ]
  },
  {
   "cell_type": "code",
   "execution_count": 6,
   "metadata": {},
   "outputs": [
    {
     "name": "stdout",
     "output_type": "stream",
     "text": [
      "Parse progress: |█████████████████████████████████████████████████████████| 100%\n"
     ]
    }
   ],
   "source": [
    "frame = h2o.import_file(path=path, col_types=col_types) # multi-threaded import"
   ]
  },
  {
   "cell_type": "code",
   "execution_count": 7,
   "metadata": {},
   "outputs": [
    {
     "name": "stdout",
     "output_type": "stream",
     "text": [
      "Rows:64122\n",
      "Cols:18\n",
      "\n",
      "\n"
     ]
    },
    {
     "data": {
      "text/html": [
       "<table>\n",
       "<thead>\n",
       "<tr><th>       </th><th>id                </th><th>chain             </th><th>offer  </th><th>market            </th><th>repeater  </th><th>offerdate         </th><th>category  </th><th>quantity  </th><th>company  </th><th>offervalue        </th><th>brand  </th><th>avg_category_quantity  </th><th>avg_category_amount  </th><th>exact_item_bought  </th><th>month             </th><th>week              </th><th>dayOfWeek  </th><th>day              </th></tr>\n",
       "</thead>\n",
       "<tbody>\n",
       "<tr><td>type   </td><td>int               </td><td>int               </td><td>enum   </td><td>int               </td><td>enum      </td><td>int               </td><td>enum      </td><td>int       </td><td>enum     </td><td>real              </td><td>enum   </td><td>real                   </td><td>real                 </td><td>int                </td><td>int               </td><td>int               </td><td>enum       </td><td>int              </td></tr>\n",
       "<tr><td>mins   </td><td>86246.0           </td><td>2.0               </td><td>       </td><td>1.0               </td><td>          </td><td>1362096000000.0   </td><td>          </td><td>1.0       </td><td>         </td><td>0.75              </td><td>       </td><td>-1.0                   </td><td>-85.14               </td><td>0.0                </td><td>3.0               </td><td>9.0               </td><td>           </td><td>1.0              </td></tr>\n",
       "<tr><td>mean   </td><td>1865046990.7057786</td><td>126.87340823970041</td><td>       </td><td>20.03781853342066 </td><td>          </td><td>1365226057677.552 </td><td>          </td><td>1.0       </td><td>         </td><td>1.2553569757649479</td><td>       </td><td>0.6942286652420042     </td><td>2.24402812053814     </td><td>0.5060197748042793 </td><td>3.587021615046317 </td><td>14.372602227004773</td><td>           </td><td>19.02984934967718</td></tr>\n",
       "<tr><td>maxs   </td><td>4809911000.0      </td><td>526.0             </td><td>       </td><td>96.0              </td><td>          </td><td>1367280000000.0   </td><td>          </td><td>1.0       </td><td>         </td><td>3.0               </td><td>       </td><td>44.181818182           </td><td>60.802               </td><td>1.0                </td><td>4.0               </td><td>18.0              </td><td>           </td><td>31.0             </td></tr>\n",
       "<tr><td>sigma  </td><td>1567329467.9984686</td><td>127.95379021018545</td><td>       </td><td>19.206555434313405</td><td>          </td><td>1304850779.3855844</td><td>          </td><td>0.0       </td><td>         </td><td>0.5238038613432843</td><td>       </td><td>0.7714497289290285     </td><td>2.6319680001789543   </td><td>0.49996765957894   </td><td>0.4923728458112812</td><td>2.163732658694185 </td><td>           </td><td>9.628506814875895</td></tr>\n",
       "<tr><td>zeros  </td><td>0                 </td><td>0                 </td><td>       </td><td>0                 </td><td>          </td><td>0                 </td><td>          </td><td>0         </td><td>         </td><td>0                 </td><td>       </td><td>29124                  </td><td>29138                </td><td>31675              </td><td>0                 </td><td>0                 </td><td>           </td><td>0                </td></tr>\n",
       "<tr><td>missing</td><td>0                 </td><td>42                </td><td>0      </td><td>0                 </td><td>0         </td><td>0                 </td><td>0         </td><td>0         </td><td>0        </td><td>0                 </td><td>0      </td><td>0                      </td><td>0                    </td><td>0                  </td><td>0                 </td><td>0                 </td><td>0          </td><td>0                </td></tr>\n",
       "<tr><td>0      </td><td>86246.0           </td><td>205.0             </td><td>1208251</td><td>34.0              </td><td>1         </td><td>1366761600000.0   </td><td>2202      </td><td>1.0       </td><td>104460040</td><td>2.0               </td><td>3718   </td><td>0.0                    </td><td>0.0                  </td><td>0.0                </td><td>4.0               </td><td>17.0              </td><td>Wed        </td><td>24.0             </td></tr>\n",
       "<tr><td>1      </td><td>12682470.0        </td><td>18.0              </td><td>unknown</td><td>11.0              </td><td>0         </td><td>1364428800000.0   </td><td>unknown   </td><td>1.0       </td><td>unknown  </td><td>0.75              </td><td>unknown</td><td>1.0                    </td><td>2.5                  </td><td>1.0                </td><td>3.0               </td><td>13.0              </td><td>Thu        </td><td>28.0             </td></tr>\n",
       "<tr><td>2      </td><td>13807224.0        </td><td>4.0               </td><td>1204576</td><td>1.0               </td><td>0         </td><td>1365120000000.0   </td><td>5616      </td><td>1.0       </td><td>104610040</td><td>1.0               </td><td>15889  </td><td>1.4375                 </td><td>3.365                </td><td>1.0                </td><td>4.0               </td><td>14.0              </td><td>Fri        </td><td>5.0              </td></tr>\n",
       "<tr><td>3      </td><td>14381137.0        </td><td>4.0               </td><td>unknown</td><td>1.0               </td><td>0         </td><td>1365033600000.0   </td><td>unknown   </td><td>1.0       </td><td>unknown  </td><td>0.75              </td><td>unknown</td><td>0.0                    </td><td>0.0                  </td><td>0.0                </td><td>4.0               </td><td>14.0              </td><td>Thu        </td><td>4.0              </td></tr>\n",
       "<tr><td>4      </td><td>14576147.0        </td><td>18.0              </td><td>unknown</td><td>11.0              </td><td>0         </td><td>1364860800000.0   </td><td>unknown   </td><td>1.0       </td><td>unknown  </td><td>0.75              </td><td>unknown</td><td>0.0                    </td><td>0.0                  </td><td>0.0                </td><td>4.0               </td><td>14.0              </td><td>Tue        </td><td>2.0              </td></tr>\n",
       "<tr><td>5      </td><td>15753725.0        </td><td>17.0              </td><td>1208251</td><td>4.0               </td><td>0         </td><td>1366761600000.0   </td><td>2202      </td><td>1.0       </td><td>104460040</td><td>2.0               </td><td>3718   </td><td>0.0                    </td><td>0.0                  </td><td>0.0                </td><td>4.0               </td><td>17.0              </td><td>Wed        </td><td>24.0             </td></tr>\n",
       "<tr><td>6      </td><td>15994113.0        </td><td>4.0               </td><td>unknown</td><td>1.0               </td><td>0         </td><td>1364256000000.0   </td><td>unknown   </td><td>1.0       </td><td>unknown  </td><td>0.75              </td><td>unknown</td><td>0.0                    </td><td>0.0                  </td><td>0.0                </td><td>3.0               </td><td>13.0              </td><td>Tue        </td><td>26.0             </td></tr>\n",
       "<tr><td>7      </td><td>16238376.0        </td><td>14.0              </td><td>unknown</td><td>8.0               </td><td>1         </td><td>1365120000000.0   </td><td>unknown   </td><td>1.0       </td><td>unknown  </td><td>0.75              </td><td>unknown</td><td>1.2                    </td><td>2.728                </td><td>1.0                </td><td>4.0               </td><td>14.0              </td><td>Fri        </td><td>5.0              </td></tr>\n",
       "<tr><td>8      </td><td>16646740.0        </td><td>4.0               </td><td>unknown</td><td>1.0               </td><td>0         </td><td>1364428800000.0   </td><td>unknown   </td><td>1.0       </td><td>unknown  </td><td>0.75              </td><td>unknown</td><td>0.0                    </td><td>0.0                  </td><td>0.0                </td><td>3.0               </td><td>13.0              </td><td>Thu        </td><td>28.0             </td></tr>\n",
       "<tr><td>9      </td><td>16691816.0        </td><td>3.0               </td><td>unknown</td><td>2.0               </td><td>0         </td><td>1363564800000.0   </td><td>unknown   </td><td>1.0       </td><td>unknown  </td><td>2.0               </td><td>unknown</td><td>1.1666666667           </td><td>11.488333333         </td><td>1.0                </td><td>3.0               </td><td>12.0              </td><td>Mon        </td><td>18.0             </td></tr>\n",
       "</tbody>\n",
       "</table>"
      ]
     },
     "metadata": {},
     "output_type": "display_data"
    }
   ],
   "source": [
    "frame.describe()"
   ]
  },
  {
   "cell_type": "code",
   "execution_count": 8,
   "metadata": {},
   "outputs": [
    {
     "name": "stdout",
     "output_type": "stream",
     "text": [
      "repeater\n",
      "['id', 'chain', 'offer', 'market', 'offerdate', 'category', 'quantity', 'company', 'offervalue', 'brand', 'avg_category_quantity', 'avg_category_amount', 'exact_item_bought', 'month', 'week', 'dayOfWeek', 'day']\n"
     ]
    }
   ],
   "source": [
    "# assign target and inputs\n",
    "y = 'repeater'\n",
    "X = [name for name in frame.columns if name != y]\n",
    "print(y)\n",
    "print(X)"
   ]
  },
  {
   "cell_type": "code",
   "execution_count": 9,
   "metadata": {},
   "outputs": [
    {
     "name": "stdout",
     "output_type": "stream",
     "text": [
      "['offer', 'category', 'company', 'brand', 'dayOfWeek']\n",
      "['id', 'chain', 'market', 'offerdate', 'quantity', 'offervalue', 'avg_category_quantity', 'avg_category_amount', 'exact_item_bought', 'month', 'week', 'day']\n"
     ]
    }
   ],
   "source": [
    "# determine column types\n",
    "reals, enums = [], []\n",
    "for key, val in frame.types.items():\n",
    "    if key in X:\n",
    "        if val == 'enum':\n",
    "            enums.append(key)\n",
    "        else: \n",
    "            reals.append(key)\n",
    "\n",
    "print(enums)\n",
    "print(reals)"
   ]
  },
  {
   "cell_type": "code",
   "execution_count": 10,
   "metadata": {},
   "outputs": [],
   "source": [
    "# impute missing values\n",
    "# standardize for both clustering and PCA\n",
    "frame[reals].impute(method='mean')\n",
    "frame[reals] = frame[reals].scale()"
   ]
  },
  {
   "cell_type": "code",
   "execution_count": 11,
   "metadata": {},
   "outputs": [
    {
     "name": "stdout",
     "output_type": "stream",
     "text": [
      "kmeans Model Build progress: |████████████████████████████████████████████| 100%\n",
      "Model Details\n",
      "=============\n",
      "H2OKMeansEstimator :  K-means\n",
      "Model Key:  KMeans_model_python_1555618039025_1\n",
      "\n",
      "\n",
      "ModelMetricsClustering: kmeans\n",
      "** Reported on train data. **\n",
      "\n",
      "MSE: NaN\n",
      "RMSE: NaN\n",
      "Total Within Cluster Sum of Square Error: 640659.4500603552\n",
      "Total Sum of Square Error to Grand Mean: 876340.9934579836\n",
      "Between Cluster Sum of Square Error: 235681.54339762835\n",
      "Centroid Statistics: \n"
     ]
    },
    {
     "data": {
      "text/html": [
       "<div style=\"overflow:auto\"><table style=\"width:50%\"><tr><td><b></b></td>\n",
       "<td><b>centroid</b></td>\n",
       "<td><b>size</b></td>\n",
       "<td><b>within_cluster_sum_of_squares</b></td></tr>\n",
       "<tr><td></td>\n",
       "<td>1.0</td>\n",
       "<td>20128.0</td>\n",
       "<td>216167.6786798</td></tr>\n",
       "<tr><td></td>\n",
       "<td>2.0</td>\n",
       "<td>2903.0</td>\n",
       "<td>29704.1966542</td></tr>\n",
       "<tr><td></td>\n",
       "<td>3.0</td>\n",
       "<td>41091.0</td>\n",
       "<td>394787.5747264</td></tr></table></div>"
      ],
      "text/plain": [
       "    centroid    size    within_cluster_sum_of_squares\n",
       "--  ----------  ------  -------------------------------\n",
       "    1           20128   216168\n",
       "    2           2903    29704.2\n",
       "    3           41091   394788"
      ]
     },
     "metadata": {},
     "output_type": "display_data"
    },
    {
     "name": "stdout",
     "output_type": "stream",
     "text": [
      "Scoring History: \n"
     ]
    },
    {
     "data": {
      "text/html": [
       "<div style=\"overflow:auto\"><table style=\"width:50%\"><tr><td><b></b></td>\n",
       "<td><b>timestamp</b></td>\n",
       "<td><b>duration</b></td>\n",
       "<td><b>iterations</b></td>\n",
       "<td><b>number_of_reassigned_observations</b></td>\n",
       "<td><b>within_cluster_sum_of_squares</b></td></tr>\n",
       "<tr><td></td>\n",
       "<td>2019-04-18 16:14:42</td>\n",
       "<td> 0.013 sec</td>\n",
       "<td>0.0</td>\n",
       "<td>nan</td>\n",
       "<td>nan</td></tr>\n",
       "<tr><td></td>\n",
       "<td>2019-04-18 16:14:43</td>\n",
       "<td> 0.456 sec</td>\n",
       "<td>1.0</td>\n",
       "<td>64122.0</td>\n",
       "<td>1325762.6159627</td></tr>\n",
       "<tr><td></td>\n",
       "<td>2019-04-18 16:14:43</td>\n",
       "<td> 0.584 sec</td>\n",
       "<td>2.0</td>\n",
       "<td>3967.0</td>\n",
       "<td>692311.5923745</td></tr>\n",
       "<tr><td></td>\n",
       "<td>2019-04-18 16:14:43</td>\n",
       "<td> 0.701 sec</td>\n",
       "<td>3.0</td>\n",
       "<td>1784.0</td>\n",
       "<td>683693.0261588</td></tr>\n",
       "<tr><td></td>\n",
       "<td>2019-04-18 16:14:43</td>\n",
       "<td> 0.818 sec</td>\n",
       "<td>4.0</td>\n",
       "<td>960.0</td>\n",
       "<td>681160.6334253</td></tr>\n",
       "<tr><td></td>\n",
       "<td>2019-04-18 16:14:43</td>\n",
       "<td> 0.881 sec</td>\n",
       "<td>5.0</td>\n",
       "<td>937.0</td>\n",
       "<td>679716.7200708</td></tr>\n",
       "<tr><td></td>\n",
       "<td>2019-04-18 16:14:43</td>\n",
       "<td> 0.907 sec</td>\n",
       "<td>6.0</td>\n",
       "<td>671.0</td>\n",
       "<td>677003.2066003</td></tr>\n",
       "<tr><td></td>\n",
       "<td>2019-04-18 16:14:43</td>\n",
       "<td> 0.937 sec</td>\n",
       "<td>7.0</td>\n",
       "<td>770.0</td>\n",
       "<td>676248.0261042</td></tr>\n",
       "<tr><td></td>\n",
       "<td>2019-04-18 16:14:43</td>\n",
       "<td> 0.967 sec</td>\n",
       "<td>8.0</td>\n",
       "<td>1705.0</td>\n",
       "<td>674893.5647980</td></tr>\n",
       "<tr><td></td>\n",
       "<td>2019-04-18 16:14:43</td>\n",
       "<td> 0.998 sec</td>\n",
       "<td>9.0</td>\n",
       "<td>3892.0</td>\n",
       "<td>667800.8850094</td></tr>\n",
       "<tr><td></td>\n",
       "<td>2019-04-18 16:14:43</td>\n",
       "<td> 1.028 sec</td>\n",
       "<td>10.0</td>\n",
       "<td>2179.0</td>\n",
       "<td>647235.7090445</td></tr></table></div>"
      ],
      "text/plain": [
       "    timestamp            duration    iterations    number_of_reassigned_observations    within_cluster_sum_of_squares\n",
       "--  -------------------  ----------  ------------  -----------------------------------  -------------------------------\n",
       "    2019-04-18 16:14:42  0.013 sec   0             nan                                  nan\n",
       "    2019-04-18 16:14:43  0.456 sec   1             64122                                1.32576e+06\n",
       "    2019-04-18 16:14:43  0.584 sec   2             3967                                 692312\n",
       "    2019-04-18 16:14:43  0.701 sec   3             1784                                 683693\n",
       "    2019-04-18 16:14:43  0.818 sec   4             960                                  681161\n",
       "    2019-04-18 16:14:43  0.881 sec   5             937                                  679717\n",
       "    2019-04-18 16:14:43  0.907 sec   6             671                                  677003\n",
       "    2019-04-18 16:14:43  0.937 sec   7             770                                  676248\n",
       "    2019-04-18 16:14:43  0.967 sec   8             1705                                 674894\n",
       "    2019-04-18 16:14:43  0.998 sec   9             3892                                 667801\n",
       "    2019-04-18 16:14:43  1.028 sec   10            2179                                 647236"
      ]
     },
     "metadata": {},
     "output_type": "display_data"
    },
    {
     "name": "stdout",
     "output_type": "stream",
     "text": [
      "\n"
     ]
    }
   ],
   "source": [
    "# train k-means cluster model\n",
    "# print summary\n",
    "clusters = H2OKMeansEstimator(standardize=False, k=3, seed=12345)\n",
    "clusters.train(x=X, training_frame=frame)\n",
    "print(clusters)\n",
    "\n",
    "# view detailed results at http://ip:port/flow/index.html"
   ]
  },
  {
   "cell_type": "code",
   "execution_count": 12,
   "metadata": {},
   "outputs": [
    {
     "name": "stdout",
     "output_type": "stream",
     "text": [
      "kmeans prediction progress: |█████████████████████████████████████████████| 100%\n"
     ]
    },
    {
     "data": {
      "text/html": [
       "<table>\n",
       "<thead>\n",
       "<tr><th style=\"text-align: right;\">  predict</th></tr>\n",
       "</thead>\n",
       "<tbody>\n",
       "<tr><td style=\"text-align: right;\">        0</td></tr>\n",
       "<tr><td style=\"text-align: right;\">        2</td></tr>\n",
       "<tr><td style=\"text-align: right;\">        2</td></tr>\n",
       "<tr><td style=\"text-align: right;\">        2</td></tr>\n",
       "<tr><td style=\"text-align: right;\">        2</td></tr>\n",
       "<tr><td style=\"text-align: right;\">        0</td></tr>\n",
       "<tr><td style=\"text-align: right;\">        2</td></tr>\n",
       "<tr><td style=\"text-align: right;\">        2</td></tr>\n",
       "<tr><td style=\"text-align: right;\">        2</td></tr>\n",
       "<tr><td style=\"text-align: right;\">        2</td></tr>\n",
       "</tbody>\n",
       "</table>"
      ]
     },
     "metadata": {},
     "output_type": "display_data"
    },
    {
     "data": {
      "text/plain": []
     },
     "execution_count": 12,
     "metadata": {},
     "output_type": "execute_result"
    }
   ],
   "source": [
    "# join cluster labels to original data for further analysis\n",
    "labels = clusters.predict(frame)\n",
    "labeled_frame = frame.cbind(labels)\n",
    "labeled_frame[-1].head()"
   ]
  },
  {
   "cell_type": "code",
   "execution_count": 13,
   "metadata": {},
   "outputs": [
    {
     "data": {
      "text/html": [
       "<table>\n",
       "<thead>\n",
       "<tr><th style=\"text-align: right;\">  predict</th><th style=\"text-align: right;\">   mean_id</th><th style=\"text-align: right;\">  mean_chain</th><th style=\"text-align: right;\">  mean_market</th><th style=\"text-align: right;\">  mean_offerdate</th><th style=\"text-align: right;\">  mean_quantity</th><th style=\"text-align: right;\">  mean_offervalue</th><th style=\"text-align: right;\">  mean_avg_category_quantity</th><th style=\"text-align: right;\">  mean_avg_category_amount</th><th style=\"text-align: right;\">  mean_exact_item_bought</th><th style=\"text-align: right;\">  mean_month</th><th style=\"text-align: right;\">  mean_week</th><th style=\"text-align: right;\">  mean_day</th></tr>\n",
       "</thead>\n",
       "<tbody>\n",
       "<tr><td style=\"text-align: right;\">        0</td><td style=\"text-align: right;\">-0.0684484</td><td style=\"text-align: right;\">   -0.180292</td><td style=\"text-align: right;\">    -0.178971</td><td style=\"text-align: right;\">        1.21868 </td><td style=\"text-align: right;\">              0</td><td style=\"text-align: right;\">         0.470987</td><td style=\"text-align: right;\">                   0.164325 </td><td style=\"text-align: right;\">                 0.200343 </td><td style=\"text-align: right;\">               0.0796786</td><td style=\"text-align: right;\">    0.83865 </td><td style=\"text-align: right;\">  1.21298  </td><td style=\"text-align: right;\">  0.582042</td></tr>\n",
       "<tr><td style=\"text-align: right;\">        1</td><td style=\"text-align: right;\"> 0.724707 </td><td style=\"text-align: right;\">    2.94303 </td><td style=\"text-align: right;\">     3.92903 </td><td style=\"text-align: right;\">        0.11084 </td><td style=\"text-align: right;\">              0</td><td style=\"text-align: right;\">         0.421674</td><td style=\"text-align: right;\">                  -0.0607453</td><td style=\"text-align: right;\">                -0.0519557</td><td style=\"text-align: right;\">               0.0420452</td><td style=\"text-align: right;\">    0.218193</td><td style=\"text-align: right;\">  0.0906396</td><td style=\"text-align: right;\"> -0.172035</td></tr>\n",
       "<tr><td style=\"text-align: right;\">        2</td><td style=\"text-align: right;\">-0.0176704</td><td style=\"text-align: right;\">   -0.119605</td><td style=\"text-align: right;\">    -0.189911</td><td style=\"text-align: right;\">       -0.604787</td><td style=\"text-align: right;\">              0</td><td style=\"text-align: right;\">        -0.260499</td><td style=\"text-align: right;\">                  -0.0762012</td><td style=\"text-align: right;\">                -0.0944652</td><td style=\"text-align: right;\">              -0.0420002</td><td style=\"text-align: right;\">   -0.426219</td><td style=\"text-align: right;\"> -0.60057  </td><td style=\"text-align: right;\"> -0.272953</td></tr>\n",
       "</tbody>\n",
       "</table>"
      ]
     },
     "metadata": {},
     "output_type": "display_data"
    },
    {
     "name": "stdout",
     "output_type": "stream",
     "text": [
      "\n"
     ]
    }
   ],
   "source": [
    "# profile clusters by means\n",
    "grouped = labeled_frame.group_by(by=['predict'])\n",
    "means = grouped.mean(col=reals).get_frame()\n",
    "print(means)"
   ]
  },
  {
   "cell_type": "code",
   "execution_count": 14,
   "metadata": {},
   "outputs": [
    {
     "data": {
      "text/html": [
       "<table>\n",
       "<thead>\n",
       "<tr><th style=\"text-align: right;\">  predict</th><th style=\"text-align: right;\">  mode_offer</th><th style=\"text-align: right;\">  mode_category</th><th style=\"text-align: right;\">  mode_company</th><th style=\"text-align: right;\">  mode_brand</th><th style=\"text-align: right;\">  mode_dayOfWeek</th></tr>\n",
       "</thead>\n",
       "<tbody>\n",
       "<tr><td style=\"text-align: right;\">        0</td><td style=\"text-align: right;\">          13</td><td style=\"text-align: right;\">              1</td><td style=\"text-align: right;\">             4</td><td style=\"text-align: right;\">           5</td><td style=\"text-align: right;\">               6</td></tr>\n",
       "<tr><td style=\"text-align: right;\">        1</td><td style=\"text-align: right;\">          16</td><td style=\"text-align: right;\">              8</td><td style=\"text-align: right;\">             0</td><td style=\"text-align: right;\">           6</td><td style=\"text-align: right;\">               2</td></tr>\n",
       "<tr><td style=\"text-align: right;\">        2</td><td style=\"text-align: right;\">          16</td><td style=\"text-align: right;\">              8</td><td style=\"text-align: right;\">             6</td><td style=\"text-align: right;\">           7</td><td style=\"text-align: right;\">               1</td></tr>\n",
       "</tbody>\n",
       "</table>"
      ]
     },
     "metadata": {},
     "output_type": "display_data"
    },
    {
     "name": "stdout",
     "output_type": "stream",
     "text": [
      "\n"
     ]
    }
   ],
   "source": [
    "# profile clusters by modes\n",
    "grouped = labeled_frame.group_by(by=['predict'])\n",
    "modes = grouped.mode(col=enums).get_frame()\n",
    "print(modes)"
   ]
  },
  {
   "cell_type": "code",
   "execution_count": 15,
   "metadata": {},
   "outputs": [],
   "source": [
    "# define a function for plotting clusters in 2-d\n",
    "def plot(_2d_labeled_frame):\n",
    "\n",
    "    _0 = plt.scatter(features_pandas[_2d_labeled_frame.label == 0].iloc[0:750, 0], \n",
    "                     features_pandas[_2d_labeled_frame.label == 0].iloc[0:750, 1],\n",
    "                     color='m', marker='^', alpha=.15)\n",
    "\n",
    "    _1 = plt.scatter(features_pandas[_2d_labeled_frame.label == 1].iloc[0:750, 0], \n",
    "                     features_pandas[_2d_labeled_frame.label == 1].iloc[0:750, 1],\n",
    "                     color='c', alpha=.15)\n",
    "\n",
    "    _2 = plt.scatter(features_pandas[_2d_labeled_frame.label == 2].iloc[0:750, 0], \n",
    "                     features_pandas[_2d_labeled_frame.label == 2].iloc[0:750, 1],\n",
    "                     color='g', marker='s', alpha=.15)               \n",
    "                     \n",
    "    plt.legend([_0, _1, _2], \n",
    "               ['Cluster 0', 'Cluster 1', 'Cluster 2'],\n",
    "               bbox_to_anchor=(1.05, 0.0), \n",
    "               loc=3, borderaxespad=0.)\n",
    "    \n",
    "    plt.xlabel('Dimension 1')\n",
    "    plt.ylabel('Dimension 2')"
   ]
  },
  {
   "cell_type": "code",
   "execution_count": 16,
   "metadata": {},
   "outputs": [
    {
     "name": "stdout",
     "output_type": "stream",
     "text": [
      "pca Model Build progress: |███████████████████████████████████████████████| 100%\n"
     ]
    },
    {
     "name": "stderr",
     "output_type": "stream",
     "text": [
      "/anaconda3/lib/python3.6/site-packages/h2o/job.py:69: UserWarning: _train: Dataset used may contain fewer number of rows due to removal of rows with NA/missing values.  If this is not desirable, set impute_missing argument in pca call to TRUE/True/true/... depending on the client language.\n",
      "  warnings.warn(w)\n"
     ]
    },
    {
     "name": "stdout",
     "output_type": "stream",
     "text": [
      "pca prediction progress: |████████████████████████████████████████████████| 100%\n",
      "        PC1       PC2  label\n",
      "0 -0.218166 -2.908099      0\n",
      "1  0.803333  1.387099      2\n",
      "2 -0.963311  1.411045      2\n",
      "3  0.984564 -0.441762      2\n",
      "4  1.020045 -0.377857      2\n"
     ]
    },
    {
     "data": {
      "image/png": "[encoded data removed]",
      "text/plain": [
       "<Figure size 432x288 with 1 Axes>"
      ]
     },
     "metadata": {},
     "output_type": "display_data"
    }
   ],
   "source": [
    "# project training data onto 2-D using principal components\n",
    "# join with clusters labels\n",
    "# plot\n",
    "pca = H2OPrincipalComponentAnalysisEstimator(k=2) # project onto 2 PCs\n",
    "pca.train(x=reals, training_frame=labeled_frame)\n",
    "features = pca.predict(labeled_frame)\n",
    "features_pandas = features.as_data_frame()\n",
    "features_pandas['label'] = labeled_frame[-1].as_data_frame()\n",
    "print(features_pandas.head())\n",
    "plot(features_pandas)\n",
    "\n",
    "# view detailed results at http://ip:port/flow/index.html\n"
   ]
  },
  {
   "cell_type": "code",
   "execution_count": null,
   "metadata": {},
   "outputs": [],
   "source": []
  }
 ],
 "metadata": {
  "kernelspec": {
   "display_name": "Python 3",
   "language": "python",
   "name": "python3"
  },
  "language_info": {
   "codemirror_mode": {
    "name": "ipython",
    "version": 3
   },
   "file_extension": ".py",
   "mimetype": "text/x-python",
   "name": "python",
   "nbconvert_exporter": "python",
   "pygments_lexer": "ipython3",
   "version": "3.7.3"
  }
 },
 "nbformat": 4,
 "nbformat_minor": 2
}
